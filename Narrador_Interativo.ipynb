{
  "nbformat": 4,
  "nbformat_minor": 0,
  "metadata": {
    "colab": {
      "provenance": [],
      "include_colab_link": true
    },
    "kernelspec": {
      "name": "python3",
      "display_name": "Python 3"
    },
    "language_info": {
      "name": "python"
    }
  },
  "cells": [
    {
      "cell_type": "markdown",
      "metadata": {
        "id": "view-in-github",
        "colab_type": "text"
      },
      "source": [
        "<a href=\"https://colab.research.google.com/github/emerdg/Narrador-Interativo---Alura-Gemini/blob/master/Narrador_Interativo.ipynb\" target=\"_parent\"><img src=\"https://colab.research.google.com/assets/colab-badge.svg\" alt=\"Open In Colab\"/></a>"
      ]
    },
    {
      "cell_type": "markdown",
      "source": [
        "# 📚 Narrador Interativo com Gemini 🚀\n",
        "\n",
        "Bem-vindo à sua aventura narrativa! Siga os passos abaixo para configurar e começar a jogar.\n",
        "\n",
        "## Primeiro Passo: Insira sua API Key\n",
        "\n",
        "Clique no ícone de chave (🔑) no menu lateral esquerdo para abrir o painel de `Secrets`. Adicione uma nova chave com o nome `GOOGLE_API_KEY` e cole sua chave de API do Google Gemini (obtida em [Google AI Studio](https://aistudio.google.com/app/apikey)).\n",
        "\n",
        "**⚠️ Sua API KEY é confidencial e só será usada por este notebook!**\n",
        "\n",
        "## Segundo Passo: Preparação do Ambiente\n",
        "\n",
        "Rode o código abaixo para instalar as bibliotecas necessárias e configurar seu acesso ao Gemini. O Colab cuidará de tudo nos bastidores."
      ],
      "metadata": {
        "id": "OvId69sGMrrc"
      }
    },
    {
      "cell_type": "code",
      "execution_count": 4,
      "metadata": {
        "id": "yX5zLeCWK1gb",
        "colab": {
          "base_uri": "https://localhost:8080/",
          "height": 379
        },
        "outputId": "cf0d9586-8314-4bac-f2d3-bdcfd29b493e"
      },
      "outputs": [
        {
          "output_type": "display_data",
          "data": {
            "text/plain": [
              "<IPython.core.display.Markdown object>"
            ],
            "text/markdown": "\n## Preparando o Ambiente...\n---"
          },
          "metadata": {}
        },
        {
          "output_type": "stream",
          "name": "stdout",
          "text": [
            "Pera ai, deixa eu pegar umas coisas aqui...\n",
            "\"Oi, google? Você deixa eu usar essas coisas aqui?\n",
            "        \n",
            " Rapidinho, coisa boba... \"\n",
            "        \n",
            "\n",
            "        \n",
            "Chegou! Deixa eu colocar cada coisa em seu lugar, só um segundo...\n"
          ]
        },
        {
          "output_type": "display_data",
          "data": {
            "text/plain": [
              "<IPython.core.display.Markdown object>"
            ],
            "text/markdown": "\n## Pronto para Configurar!\n---"
          },
          "metadata": {}
        },
        {
          "output_type": "stream",
          "name": "stdout",
          "text": [
            "Tudo certo!\n",
            "    \n",
            " Agora o Google nos emprestou o Gemini por um tempo. Vamos para o próximo passo!\n",
            "    \n",
            " Você já pode executar o próximo bloco para configurar seu jogo.\n",
            "    \n"
          ]
        }
      ],
      "source": [
        "import os\n",
        "import time\n",
        "import sys\n",
        "\n",
        "# Importar display e Markdown para formatação visual\n",
        "from IPython.display import display, Markdown, HTML # Adicionado HTML\n",
        "import textwrap # Já importado, útil para formatar texto\n",
        "\n",
        "################################################################################\n",
        "# Função para efeito de digitação (útil para mensagens de status na configuração)\n",
        "def digitar(texto):\n",
        "    for letra in texto:\n",
        "        sys.stdout.write(letra)\n",
        "        sys.stdout.flush()\n",
        "        time.sleep(0.01)              # velocidade de digitação\n",
        "    print()                           # Adiciona uma nova linha ao final\n",
        "################################################################################\n",
        "\n",
        "# Função para exibir texto do Narrador com formatação visual (caixa)\n",
        "def display_narrator_response(text):\n",
        "    # Formatar o texto usando HTML e Markdown para criar uma caixa com estilo\n",
        "    html_content = f'''\n",
        "    <div style=\\\"border: 1px solid #777; padding: 15px; margin: 15px 0; border-radius: 8px; background-color: #333; color: #fff;\\\">\n",
        "        🗣️ **NARRADOR:**<br>\n",
        "        {textwrap.fill(text.strip(), width=60)} <!-- Quebra de linha para melhor visualização -->\n",
        "    </div>\n",
        "    '''\n",
        "    display(HTML(html_content))\n",
        "\n",
        "# Função para exibir títulos de seção formatados\n",
        "def display_section_heading(title):\n",
        "    display(Markdown(f\"\\n## {title}\\n---\")) # Título grande com linha separadora\n",
        "\n",
        "\n",
        "display_section_heading(\"Preparando o Ambiente...\")\n",
        "\n",
        "digitar(texto='Pera ai, deixa eu pegar umas coisas aqui...')\n",
        "!pip install -q google-genai          # Instalando Bibliotéca do Gemini\n",
        "\n",
        "digitar(texto=\n",
        "        '''\\\"Oi, google? Você deixa eu usar essas coisas aqui?\n",
        "        \\n Rapidinho, coisa boba... \\\"\n",
        "        \\n\n",
        "        '''\n",
        "        )\n",
        "!pip install -q google-adk            # Instalando Bibliotéca do ADK (Agent Development Kit)\n",
        "\n",
        "# Inserindo essas frases bobas a cada etapa eu consigo saber em que etapa o\n",
        "# codigo se encontra ;)\n",
        "\n",
        "from google.colab import userdata\n",
        "os.environ['GOOGLE_API_KEY'] = userdata.get('GOOGLE_API_KEY') # Copiando sua API KEY para a memória;\n",
        "\n",
        "\n",
        "################################################################################\n",
        "################################### Shor de Importação! Carrega tudo aqui, bora!\n",
        "\n",
        "digitar(texto='Chegou! Deixa eu colocar cada coisa em seu lugar, só um segundo...')\n",
        "\n",
        "from google import genai\n",
        "from google.adk.agents import Agent\n",
        "from google.adk.runners import Runner\n",
        "from google.adk.sessions import InMemorySessionService\n",
        "from google.adk.tools import google_search\n",
        "from google.genai import types  # Para criar conteúdos (Content e Part)\n",
        "from datetime import date\n",
        "# import textwrap # Removido, já importado acima\n",
        "# from IPython.display import display, Markdown # Removido, já importado acima\n",
        "import requests # Para fazer requisições HTTP\n",
        "import warnings\n",
        "\n",
        "warnings.filterwarnings(\"ignore\")\n",
        "################################################################################\n",
        "\n",
        "\n",
        "display_section_heading(\"Pronto para Configurar!\")\n",
        "digitar(texto=\n",
        "    '''Tudo certo!\n",
        "    \\n Agora o Google nos emprestou o Gemini por um tempo. Vamos para o próximo passo!\n",
        "    \\n Você já pode executar o próximo bloco para configurar seu jogo.\n",
        "    '''\n",
        "    )\n",
        "\n",
        "\n"
      ]
    },
    {
      "cell_type": "code",
      "source": [
        "modelo_grande = \"gemini-2.0-flash\"\n",
        "modelo_rapido = \"gemini-2.0-flash-lite\"\n",
        "\n",
        "# Gerenciador de agentes - Mantido como estava\n",
        "def call_agent(agent: Agent, message_text: str) -> str:\n",
        "    # Cria um serviço de sessão em memória\n",
        "    session_service = InMemorySessionService()\n",
        "    # Cria uma nova sessão (você pode personalizar os IDs conforme necessário)\n",
        "    session = session_service.create_session(app_name=agent.name, user_id=\"user1\", session_id=\"session1\")\n",
        "    # Cria um Runner para o agente\n",
        "    runner = Runner(agent=agent, app_name=agent.name, session_service=session_service)\n",
        "    # Cria o conteúdo da mensagem de entrada\n",
        "    content = types.Content(role=\"user\", parts=[types.Part(text=message_text)])\n",
        "\n",
        "    final_response = \"\"\n",
        "    # Itera assincronamente pelos eventos retornados durante a execução do agente\n",
        "    for event in runner.run(user_id=\"user1\", session_id=\"session1\", new_message=content):\n",
        "        if event.is_final_response():\n",
        "          for part in event.content.parts:\n",
        "            if part.text is not None:\n",
        "              final_response += part.text\n",
        "              final_response += \"\\n\"\n",
        "    return final_response\n",
        "\n",
        "################################################################################ AGENTE CONFIGURACAO DO NARRADOR\n",
        "def agente_conf_narrador(descricao, referencias):\n",
        "  conf_narrador = Agent(\n",
        "      name=\"agente_conf_narrador\",\n",
        "      model=modelo_rapido,\n",
        "      description=\"Agente responsável por criar o nosso narrador.\",\n",
        "      tools=[google_search],\n",
        "      instruction='''\n",
        "      Você é um agente responsável por configurar um narrador, definir qual é seu humor, gostos e estilo de narrativa baseado nas intruções do leitor.\n",
        "      você deve se basear nas seguintes informações:\n",
        "      Use DESCRICAO para caracterizar e descrever o narrador.\n",
        "      Use REFERENCIAS e usando goole (google_search) para recuperar informações sobre os gostos e interesses do narrador.\n",
        "      Foque no que é mais importante para a narração do jogo.\n",
        "      CASO o leitor não dê um nome, crie um nome para ele ou ela.\n",
        "      Se faltar informação, crie algo bem divertido para o leitor.\n",
        "\n",
        "      IMPORTANTE: De forma alguma o narrador deve ser sexualizado, menor de idade (em aparencia ou idade), vulgar ou violento.\n",
        "      IMPORTANTE: De forma alguma o narrador deve ser sexualizado, menor de idade (em aparencia ou idade), vulgar ou violento.\n",
        "      '''\n",
        "  )\n",
        "  entrada_do_agente_conf_narrador = f'''\n",
        "  DESCRICAO: {descricao} \\n\n",
        "  REFERENCIAS: {referencias}\n",
        "  '''\n",
        "  res_conf_narrador = call_agent(conf_narrador, entrada_do_agente_conf_narrador)\n",
        "  return res_conf_narrador\n",
        "\n",
        "  ################################################################################ AGENTE CONFIGURACAO DA HISTORIA\n",
        "def agente_conf_historia(onde, referencias, estilo, comportamento):\n",
        "  conf_historia = Agent(\n",
        "      name=\"agente_conf_historia\",\n",
        "      model=modelo_grande,\n",
        "      description=\"Agente responsável por criar o cenário e a história.\",\n",
        "      tools=[google_search],\n",
        "      instruction='''\n",
        "      Você é um agente responsável por configurar a história que nosso narrador irá contar, definir aonde ela irá se passar, que gênero narrativo ela deve seguir e qual o foco da narrativa.\n",
        "      você deve se basear nas seguintes informações:\n",
        "      Use LUGAR para saber em que lugar se passa essa história.\n",
        "      Use REFERENCIAS e usando goole (google_search) para recuperar informações que te ajudem a construir este cenario da melhor maneira possível\n",
        "      Use ESTILO para adaptar a história a um estilo literário coerente e usando goole (google_search) encontre bons exemplos.\n",
        "      Use COMPORTAMENTO para entender como essa hsitória será contada, seja como um narrador de um RPG de mesa, um livro jogo com alternativas ou de outra forma solicitada pelo leitor.\n",
        "      Crie lugares e personágens importantes que podem ou não ser apresentados na história.\n",
        "      Foque no que é mais importante para a narração da história, dando a melhor atmosfera possível para o ambiente e vida ao jogo.\n",
        "      Se faltar informação, crie algo bem divertido para o leitor.\n",
        "\n",
        "      IMPORTANTE: De forma alguma o ambiente ou os personagens devem ser sexualizados, vulgarizados ou apresentar violência além do necessário para uma boa narrativa.\n",
        "      IMPORTANTE: De forma alguma o ambiente ou os personagens devem ser sexualizados, vulgarizados ou apresentar violência além do necessário para uma boa narrativa\n",
        "      '''\n",
        "  )\n",
        "  entrada_do_agente_conf_historia = f'''\n",
        "  LUGAR: {onde}\n",
        "  REFERENCIAS: {referencias}\n",
        "  ESTILO: {estilo}\n",
        "  COMPORTAMENTO: {comportamento}\n",
        "  '''\n",
        "  res_conf_historia = call_agent(conf_historia, entrada_do_agente_conf_historia)\n",
        "  return res_conf_historia\n",
        "\n",
        "################################################################################ AGENTE CRIACAO DO NARRADOR\n",
        "# Este agente foi removido, pois sua função foi integrada ao system_instruction do chat principal\n",
        "# mantendo apenas os agentes de configuração para gerar as descrições iniciais.\n",
        "# def agente_narrador(res_conf_narrador, res_conf_historia, res_conf_personagem):\n",
        "#   agente_narrador = Agent(\n",
        "#       name=\"agente_narrador\",\n",
        "#         model=modelo_rapido,\n",
        "#       description=\"Agente responsável por contar a história.\",\n",
        "#       instruction='''\n",
        "#       Você é um Narrador de histórias.\n",
        "#       ... (instruções)\n",
        "#       '''\n",
        "#       )\n",
        "#   entrada_do_agente_narrador = f'''\n",
        "#   ... (entradas)\n",
        "#   '''\n",
        "#   res_agente_narrador = call_agent(agente_narrador, entrada_do_agente_narrador)\n",
        "#   return res_agente_narrador\n",
        "\n",
        "################################################################################ AGENTE CONFIGURACAO DO PERSONAGEM\n",
        "def agente_conf_personagem(Persona, referencias, relacoes):\n",
        "  conf_personagem = Agent(\n",
        "      name=\"agente_conf_personagem\",\n",
        "      model=modelo_grande,\n",
        "      description=\"Agente responsável por criar o personagem jogador.\",\n",
        "      tools=[google_search],\n",
        "      instruction='''\n",
        "      Você é um agente responsável por configurar o personágem do jogador, podendo ser mais de um, de acordo com a solicitação do leitor.\n",
        "      Você deve se basear nas seguintes informações:\n",
        "      Use PERSONA para descrever o personágem, gostos e aparencia.\n",
        "      Use REFERENCIAS e usando goole (google_search) para recuperar informações que te ajudem a construir este personágem da melhor maneira possível.\n",
        "      Use RELACOES para localizar o personagem na história e estabelecer ligações dele com lugares e personagens importantes.\n",
        "      Inclua alguns pertences relevantes, gostos pessoais, inimisades e relações com outros personagens da narrativa.\n",
        "      Foque no que é mais importante para a narração da história, tornando o personagem parte vital do jogo, sendo um ou mais personagens.\n",
        "      Se faltar informação, crie algo bem divertido para o leitor.\n",
        "\n",
        "      IMPORTANTE: De forma alguma o ambiente ou os personagens devem ser sexualizados, vulgarizados ou apresentar violência além do necessário para uma boa narrativa.\n",
        "      IMPORTANTE: De forma alguma o ambiente ou os personagens devem ser sexualizado, vulgarizados ou apresentar violência além do necessário para uma boa narrativa\n",
        "      '''\n",
        "  )\n",
        "\n",
        "  entrada_do_agente_conf_personagem = f'''\n",
        "  PERSONA: {Persona}\n",
        "  REFERENCIAS: {referencias}\n",
        "  RELACOES: {relacoes}\n",
        "  '''\n",
        "  res_conf_personagem = call_agent(conf_personagem, entrada_do_agente_conf_personagem)\n",
        "  return res_conf_personagem\n",
        "\n",
        "display_section_heading(\"Configuração da História e Personagem\")\n",
        "digitar(texto=\n",
        "    '''Agora vamos definir os detalhes do seu jogo! Responda às perguntas abaixo para moldar sua aventura.\n",
        "    '''\n",
        "    )"
      ],
      "metadata": {
        "id": "83vLINBMh5tr",
        "colab": {
          "base_uri": "https://localhost:8080/",
          "height": 111
        },
        "outputId": "bbf1b098-9165-4d85-f725-2d7ca4693cad"
      },
      "execution_count": 10,
      "outputs": [
        {
          "output_type": "display_data",
          "data": {
            "text/plain": [
              "<IPython.core.display.Markdown object>"
            ],
            "text/markdown": "\n## Configuração da História e Personagem\n---"
          },
          "metadata": {}
        },
        {
          "output_type": "stream",
          "name": "stdout",
          "text": [
            "Agora vamos definir os detalhes do seu jogo! Responda às perguntas abaixo para moldar sua aventura.\n",
            "    \n"
          ]
        }
      ]
    },
    {
      "cell_type": "code",
      "source": [
        "display_section_heading(\"Detalhes do Narrador\")\n",
        "descricao = input(\"\\n✨ Por favor, descreva quem será o narrador que irá contar a sua história. \\n Inclua informações como humor, gostos e estilos. \\n Isso ajudará a dar mais naturalidade e personalidade a forma como a história será contada. \\n\")\n",
        "referencias_narrador = input(\"\\n📚 O que ele gosta de ler, assistir ou jogar? \\n Não necessariamente isso será incluso na história, mas ajuda a dar personalidade ao narrador. \\n\")\n",
        "\n",
        "# CRIANDO NARRADOR ################################################\n",
        "if not descricao:\n",
        "  descricao = \"Um narrador curioso e que adora mistérios.\"\n",
        "\n",
        "if not referencias_narrador:\n",
        "  referencias_narrador = \"Livros de Agatha Christie, jogos de detetive e filmes clássicos de suspense.\"\n",
        "\n",
        "digitar(\"\\n Ok, só um minuto, estou montando o narrador... \\n Encaixando algumas peças, lendo o manual...\")\n",
        "\n",
        "final_narrador = agente_conf_narrador(descricao, referencias_narrador)\n",
        "\n",
        "# Exibir o resultado da configuração do narrador\n",
        "display(Markdown(\"### 👤 Seu Narrador está pronto!\"))\n",
        "display(Markdown(final_narrador))\n",
        "\n",
        "\n",
        "display_section_heading(\"Detalhes da História\")\n",
        "onde = input(\"\\n🗺️ Onde se passará nossa história? \\n Pode ser um lugar no mundo real ou na fantasia. \\n\")\n",
        "referencias_historia = input(\"\\n🎬 Quer dar uma referencia de alguns mundos legais que você gosta? \\n\")\n",
        "estilo =  input(\"\\n✍️ Em que estilo de escrita devemos nos basear? \\n literatura de horror, romance, young-adult, ficção científica? \\n\")\n",
        "comportamento =  input(\"\\n🎮 Como será nosso jogo? Um RPG, onde o narrador conta a história e você escreve ou escolhe a continuação? Terá conflitos como combates ou charadas? \\n\")\n",
        "\n",
        "# CRIANDO HISTORIA ################################################\n",
        "if not onde:\n",
        "  onde = \"uma cidade costeira misteriosa\"\n",
        "\n",
        "if not referencias_historia:\n",
        "  referencias_historia = \"Os contos de H.P. Lovecraft e a série Stranger Things\"\n",
        "\n",
        "if not estilo:\n",
        "  estilo = \"mistério e horror cósmico\"\n",
        "\n",
        "if not comportamento:\n",
        "  comportamento = \"Um jogo de investigação e escolhas, focado em resolver mistérios. O narrador apresentará dilemas e o jogador escolherá o caminho.\"\n",
        "\n",
        "digitar(\"\\n Tá certo, minha equipe de roteiristas está escrevendo nossa história. \\n Só mais um segundo!\")\n",
        "\n",
        "final_historia = agente_conf_historia(onde, referencias_historia, estilo, comportamento)\n",
        "\n",
        "# Exibir o resultado da configuração da história\n",
        "display(Markdown(\"### 🌎 O Palco da sua História está montado!\"))\n",
        "display(Markdown(final_historia))\n",
        "\n",
        "\n",
        "display_section_heading(\"Detalhes do Personagem\")\n",
        "Persona = input(\"\\n🦸‍♀️ Quem é o seu personagem neste mundo? \\n Dê uma breve descrição dele (aparência, profissão, personalidade). \\n\")\n",
        "referencias_personagem = input(\"\\n🎭 Quem, no mundo da ficção, se parece com o seu personágem? \\n\")\n",
        "\n",
        "# CRIANDO PERSONAGEM ################################################\n",
        "if not Persona:\n",
        "  Persona = \"Um jovem curioso, recém-chegado na cidade, em busca de respostas sobre um parente desaparecido.\"\n",
        "\n",
        "if not referencias_personagem:\n",
        "  referencias_personagem = \"Indiana Jones jovem e detetives clássicos\"\n",
        "\n",
        "digitar(\"\\n Legal, agora nossa equipe de maquiagem e figurino vai trabalhar! \\n Mais um segundo, por favor...\")\n",
        "\n",
        "# Passamos a configuração da história como referência para o personagem\n",
        "final_personagem = agente_conf_personagem(Persona, referencias_personagem, final_historia)\n",
        "\n",
        "# Exibir o resultado da configuração do personagem\n",
        "display(Markdown(\"### 🚶‍♂️ Seu Personagem está pronto!\"))\n",
        "display(Markdown(final_personagem))\n",
        "\n",
        "\n",
        "################################################################################ INICIO DA NARRATIVA\n",
        "\n",
        "display_section_heading(\"Início da Aventura!\")\n",
        "\n",
        "display(Markdown(\"\\n✨ **OK! Vamos começar a contar sua história!** ✨\"))\n",
        "display(Markdown(\"\\n*Digite `!FIM` a qualquer momento para sair do jogo.*\\n\"))\n",
        "\n",
        "\n",
        "client = genai.Client()\n",
        "\n",
        "# System Instruction para o CHAT principal (o narrador)\n",
        "# Inclui as descrições geradas pelos agentes de configuração\n",
        "chat_config = types.GenerateContentConfig(\n",
        "    system_instruction = f'''\n",
        "    Você é um narrador de histórias interativas. Sua função é descrever as cenas, apresentar o personagem do jogador no mundo e guiar a narrativa com base nas escolhas do jogador.\n",
        "    Mantenha a persona, o estilo e o comportamento definidos. Você é a voz e os olhos do mundo para o jogador.\n",
        "\n",
        "    Aqui estão os detalhes que você deve seguir:\n",
        "    **Sua Persona (o Narrador):** {final_narrador}\n",
        "    **A História e o Mundo:** {final_historia}\n",
        "    **O Personagem do Jogador:** {final_personagem}\n",
        "\n",
        "    **Instruções para Narrar:**\n",
        "    1. Seja criativo e envolvente nas descrições.\n",
        "    2. Descreva as cenas com cuidado, focando na atmosfera e nos detalhes relevantes para a história.\n",
        "    3. Mantenha os parágrafos concisos, no máximo 6 parágrafos por resposta para não sobrecarregar o jogador.\n",
        "    4. Apresente claramente as opções ou o tipo de ação que o jogador pode tomar, de acordo com o COMPORTAMENTO definido para o jogo.\n",
        "    5. Reaja às escolhas do jogador, avançando a narrativa de forma coerente com o mundo, história e personagem.\n",
        "\n",
        "    **Restrições Importantes:**\n",
        "    *   De forma alguma o conteúdo gerado deve ser sexualizado, menor de idade (em aparencia ou idade), vulgar ou excessivamente violento (além do necessário para o gênero ou atmosfera definida).\n",
        "    *   Siga as diretrizes de segurança do conteúdo do Google.\n",
        "    *   Informações importantes para a narrativa devem estar em negrito como o exemplo: <strong>Importante</strong>.\n",
        "    *   CASO HAJAM OPÇÕES NO JOGO, elas devem ser claras e bem definidas, seguindo o padrão de formatação abaixo:\n",
        "        <ol>\n",
        "            <li>Opção 1 - Descrição</li>\n",
        "            <li>Opção 2 - Descrição</li>\n",
        "            <li>Opção 3 - Descrição</li>\n",
        "            <li>Opção 4 - Descrição</li>\n",
        "        </ol>\n",
        "\n",
        "    '''\n",
        "    )\n",
        "\n",
        "prompt = ('''\n",
        "    Inicie a história!\n",
        "    Primeiro, apresente-se brevemente como o narrador, incorporando a persona que foi criada para você.\n",
        "    Em seguida, descreva em dois parágrafos o mundo ou o cenário inicial da história, usando os detalhes que foram configurados.\n",
        "    Finalmente, introduza o personagem do jogador, descreva onde ele se encontra e apresente a situação inicial que dá o pontapé na aventura. Termine com uma pergunta ou opções para o jogador tomar a primeira decisão.\n",
        "    ''')\n",
        "\n",
        "chat = client.chats.create(model=modelo_grande, config=chat_config) # Usando modelo_grande para o chat principal para melhor narrativa\n",
        "\n",
        "# Loop principal do jogo\n",
        "while prompt != \"!FIM\":\n",
        "  try:\n",
        "    resposta = chat.send_message(prompt)\n",
        "    # Usar a função formatada para exibir a resposta do narrador\n",
        "    display_narrator_response(resposta.text)\n",
        "\n",
        "  except Exception as e:\n",
        "      # Tratar possíveis erros da API\n",
        "      display(Markdown(f\"<div style='color: red;'>🚫 **Erro:** {e}</div>\"))\n",
        "      display(Markdown(\"Ocorreu um erro na comunicação com o Narrador. Tente digitar novamente ou digite `!FIM` para encerrar.\"))\n",
        "\n",
        "  # Exibir o prompt para o usuário antes de pedir a entrada\n",
        "  display(Markdown(\"\\n<div style='font-weight: bold;'>✍️ SUA VEZ:</div>\"))\n",
        "\n",
        "  # Coletar a entrada do usuário\n",
        "  prompt = input(\"\") # O input em si não pode ser estilizado facilmente, mas o texto acima sim.\n",
        "\n",
        "# Mensagem de fim de jogo\n",
        "display_section_heading(\"Fim da Aventura\")\n",
        "display(Markdown(\"\\n**Obrigado por jogar!** A história terminou (por enquanto!).\\n\"))\n",
        "\n",
        "\n",
        "\n"
      ],
      "metadata": {
        "id": "YJKAPo3ODgw2",
        "colab": {
          "base_uri": "https://localhost:8080/",
          "height": 1000
        },
        "outputId": "efa44eb6-c2d8-431a-e055-99ba9296cd73"
      },
      "execution_count": null,
      "outputs": [
        {
          "output_type": "display_data",
          "data": {
            "text/plain": [
              "<IPython.core.display.Markdown object>"
            ],
            "text/markdown": "\n## Detalhes do Narrador\n---"
          },
          "metadata": {}
        },
        {
          "output_type": "stream",
          "name": "stdout",
          "text": [
            "\n",
            "✨ Por favor, descreva quem será o narrador que irá contar a sua história. \n",
            " Inclua informações como humor, gostos e estilos. \n",
            " Isso ajudará a dar mais naturalidade e personalidade a forma como a história será contada. \n",
            "Gilia Anderson\n",
            "\n",
            "📚 O que ele gosta de ler, assistir ou jogar? \n",
            " Não necessariamente isso será incluso na história, mas ajuda a dar personalidade ao narrador. \n",
            "Arquivo X\n",
            "\n",
            " Ok, só um minuto, estou montando o narrador... \n",
            " Encaixando algumas peças, lendo o manual...\n"
          ]
        },
        {
          "output_type": "display_data",
          "data": {
            "text/plain": [
              "<IPython.core.display.Markdown object>"
            ],
            "text/markdown": "### 👤 Seu Narrador está pronto!"
          },
          "metadata": {}
        },
        {
          "output_type": "display_data",
          "data": {
            "text/plain": [
              "<IPython.core.display.Markdown object>"
            ],
            "text/markdown": "Aqui está a configuração do narrador com base nas suas instruções:\n\n**Nome:** Gilia Anderson\n\n**DESCRIÇÃO:** Uma narradora astuta e perspicaz, com um olhar atento para os detalhes e uma mente analítica. Inspirada em sua homônima de \"Arquivo X\", Gilia traz uma mistura de ceticismo e curiosidade para suas narrativas, buscando sempre a verdade por trás dos mistérios. Sua voz é firme e direta, mas com um toque de humor sutil, tornando-a uma companheira agradável para qualquer aventura.\n\nCom base nas suas REFERÊNCIAS, Gilia Anderson se interessa por:\n\n*   **Mistérios e Investigação:** Apaixonada por desvendar enigmas e explorar o desconhecido, ela adora histórias que envolvem suspense, conspirações e reviravoltas.\n*   **Ciência e Paranormal:** Com um pé na ciência e outro no sobrenatural, ela busca entender a conexão entre o mundo real e o inexplicável, sempre com um toque de ceticismo e curiosidade.\n*   **Personagens Complexos:** Ela se sente atraída por personagens com profundidade, que enfrentam dilemas morais e que lutam com suas próprias falhas e virtudes.\n\nAgora, com Gilia como sua narradora, prepare-se para embarcar em histórias cheias de suspense, mistério e descobertas!\n\n"
          },
          "metadata": {}
        },
        {
          "output_type": "display_data",
          "data": {
            "text/plain": [
              "<IPython.core.display.Markdown object>"
            ],
            "text/markdown": "\n## Detalhes da História\n---"
          },
          "metadata": {}
        },
        {
          "output_type": "stream",
          "name": "stdout",
          "text": [
            "\n",
            "🗺️ Onde se passará nossa história? \n",
            " Pode ser um lugar no mundo real ou na fantasia. \n",
            "No nosso mundo atual, mas em 1995\n",
            "\n",
            "🎬 Quer dar uma referencia de alguns mundos legais que você gosta? \n",
            "Arquivo X, The last of US, Strager Things\n",
            "\n",
            "✍️ Em que estilo de escrita devemos nos basear? \n",
            " literatura de horror, romance, young-adult, ficção científica? \n",
            "Young adult, ficção cientifica\n",
            "\n",
            "🎮 Como será nosso jogo? Um RPG, onde o narrador conta a história e você escreve ou escolhe a continuação? Terá conflitos como combates ou charadas? \n",
            "Um rpg de escolha de caminhos, com combates e mistérios\n",
            "\n",
            " Tá certo, minha equipe de roteiristas está escrevendo nossa história. \n",
            " Só mais um segundo!\n"
          ]
        },
        {
          "output_type": "display_data",
          "data": {
            "text/plain": [
              "<IPython.core.display.Markdown object>"
            ],
            "text/markdown": "### 🌎 O Palco da sua História está montado!"
          },
          "metadata": {}
        },
        {
          "output_type": "display_data",
          "data": {
            "text/plain": [
              "<IPython.core.display.Markdown object>"
            ],
            "text/markdown": "Ok, vou criar o cenário e a estrutura da história com base nas suas instruções. Preparar um RPG de escolha de caminhos ambientado em 1995, com elementos de Arquivo X, The Last of Us e Stranger Things, no estilo Young Adult e focado em mistérios e combates.\n\nPrimeiro, vou usar o Google para pesquisar referências e detalhes sobre a atmosfera de 1995 e elementos de ficção científica que posso incorporar.\n\n\nCom base nas pesquisas, aqui está a configuração inicial da história:\n\n**Título:** \"Arquivo Anômalo: 1995\"\n\n**Sinopse:** Em 1995, na pacata cidade de Port Álamo, situada no interior do estado do Oregon, uma série de eventos bizarros começa a perturbar a rotina local. Desaparecimentos misteriosos, relatos de criaturas estranhas e fenômenos inexplicáveis levam um grupo de jovens a investigar o que está acontecendo. Liderados por Alex, um aspirante a cientista obcecado por teorias da conspiração, e Sarah, uma garota cética com um passado sombrio, eles descobrem que a cidade abriga segredos obscuros e que forças sinistras estão em ação.\n\n**Ambientação:**\n\n*   **Localização:** Port Álamo, Oregon, EUA. Uma cidade pequena, com uma atmosfera densa e misteriosa, cercada por florestas densas e montanhas imponentes. A economia local gira em torno da indústria madeireira, mas a cidade também possui uma base militar desativada nos arredores, que alimenta diversas teorias da conspiração.\n*   **Atmosfera:** A vibe dos anos 90 é crucial. Música grunge, roupas largas, computadores com acesso discado à internet, telefones de parede e a crescente popularidade dos videogames e da cultura pop. A paranoia da Guerra Fria ainda paira no ar, misturada com a crescente preocupação com o meio ambiente e as novas tecnologias.\n\n**Personagens:**\n\n*   **Alex:** O protagonista. Um jovem inteligente e curioso, obcecado por teorias da conspiração e fenômenos paranormais. Ele é o cérebro do grupo, sempre buscando respostas e desvendando os mistérios.\n\n*   **Sarah:** Uma garota rebelde e independente, com um passado traumático. Ela é cética e pragmática, mas se junta ao grupo em busca de respostas para seus próprios demônios.\n\n*   **Mike:** O melhor amigo de Alex, um nerd apaixonado por computadores e videogames. Ele é o especialista em tecnologia do grupo, capaz de hackear sistemas e encontrar informações na internet.\n\n*   **Emily:** Uma garota popular e extrovertida, que se junta ao grupo por curiosidade e em busca de aventura. Ela é a voz da razão, tentando manter o grupo unido e focado.\n*   **Agente Miller:** Um agente do FBI cético e experiente, enviado para investigar os eventos em Port Álamo. Ele é um personagem ambíguo, que pode ser tanto um aliado quanto um inimigo.\n\n**Elementos da História:**\n\n*   **Mistério:** Os desaparecimentos, as criaturas e os fenômenos inexplicáveis são o motor da história. Cada escolha do jogador leva a novas pistas e reviravoltas, desvendando um mistério maior.\n*   **Combate:** O grupo enfrenta criaturas estranhas e inimigos perigosos. O sistema de combate é simples e dinâmico, com escolhas táticas que afetam o resultado das batalhas.\n*   **Escolhas:** O jogador toma decisões importantes que afetam o rumo da história, o destino dos personagens e o final do jogo.\n*   **Referências:** A história faz referências a Arquivo X, The Last of Us e Stranger Things, com elementos de ficção científica, terror e aventura.\n\n**Estrutura do RPG:**\n\n*   A história é dividida em capítulos, cada um com um objetivo principal.\n*   Em cada capítulo, o jogador explora a cidade, interage com personagens, coleta pistas e enfrenta desafios.\n*   O jogador toma decisões que afetam o rumo da história, escolhendo caminhos diferentes e desvendando segredos.\n*   O jogador enfrenta combates contra criaturas e inimigos, usando habilidades e estratégias para vencer.\n*   O jogador coleta itens e equipamentos que ajudam na aventura.\n*   A história tem múltiplos finais, dependendo das escolhas do jogador.\n\n**Possíveis Pontos de Partida:**\n\n1.  **O Desaparecimento de Billy:** O irmão mais novo de Sarah desaparece misteriosamente na floresta. Sarah se junta a Alex e seus amigos para encontrá-lo, descobrindo pistas sobre os segredos da cidade.\n2.  **A Criatura na Floresta:** Moradores relatam ter visto uma criatura estranha vagando pela floresta. Alex e seus amigos decidem investigar, encontrando evidências de experimentos secretos na base militar desativada.\n3.  **O Sinal Misterioso:** Mike intercepta um sinal de rádio estranho, vindo da base militar desativada. Ele e seus amigos decidem investigar, descobrindo uma conspiração que envolve o governo e experimentos com seres humanos.\n\nCom essa configuração, podemos começar a desenvolver o primeiro capítulo do RPG, definindo os objetivos, os desafios e as escolhas do jogador. Quer começar pelo desaparecimento de Billy?\n\n"
          },
          "metadata": {}
        },
        {
          "output_type": "display_data",
          "data": {
            "text/plain": [
              "<IPython.core.display.Markdown object>"
            ],
            "text/markdown": "\n## Detalhes do Personagem\n---"
          },
          "metadata": {}
        },
        {
          "output_type": "stream",
          "name": "stdout",
          "text": [
            "\n",
            "🦸‍♀️ Quem é o seu personagem neste mundo? \n",
            " Dê uma breve descrição dele (aparência, profissão, personalidade). \n",
            "Um estudante do ensino médio, Brasileiro, morando nos EUA, que é primo mais novo de um agente do FBI. Vou jogar com ambos os personagens\n",
            "\n",
            "🎭 Quem, no mundo da ficção, se parece com o seu personágem? \n",
            "Arquivo X, The last of US, Strager Things\n",
            "\n",
            " Legal, agora nossa equipe de maquiagem e figurino vai trabalhar! \n",
            " Mais um segundo, por favor...\n"
          ]
        },
        {
          "output_type": "display_data",
          "data": {
            "text/plain": [
              "<IPython.core.display.Markdown object>"
            ],
            "text/markdown": "### 🚶‍♂️ Seu Personagem está pronto!"
          },
          "metadata": {}
        },
        {
          "output_type": "display_data",
          "data": {
            "text/plain": [
              "<IPython.core.display.Markdown object>"
            ],
            "text/markdown": "Com certeza! Vamos criar as fichas dos dois personagens que você vai jogar: Alex, o estudante do ensino médio, e o Agente Miller, seu tio do FBI.\n\n\n## Ficha de Personagem: Alex\n\n*   **Nome:** Alex (Sobrenome a definir)\n*   **Idade:** 16 anos\n*   **Aparência:**\n    *   Magro, com cabelos castanhos despenteados que sempre caem sobre seus olhos.\n    *   Usa óculos de grau, muitas vezes tortos no rosto.\n    *   Sempre veste camisetas de bandas de rock dos anos 90 (Nirvana, Pearl Jam), calças jeans largas e tênis All Star surrados.\n*   **Personalidade:**\n    *   Inteligente, curioso e um tanto nerd.\n    *   Obcecado por teorias da conspiração, OVNIs e fenômenos paranormais.\n    *   Às vezes, é um pouco socialmente desajeitado, mas leal aos seus amigos.\n    *   Sonha em ser cientista e provar que o governo esconde a verdade sobre o mundo.\n*   **Gostos:**\n    *   Revistas de ficção científica e histórias em quadrinhos.\n    *   Filmes de terror e ficção científica dos anos 80 e 90 (Arquivo X é sua obsessão).\n    *   Jogar videogames no seu Super Nintendo.\n    *   Explorar lugares abandonados e misteriosos.\n*   **Desgostos:**\n    *   Pessoas que zombam de suas teorias.\n    *   A sensação de que o mundo está cheio de segredos que ele não consegue desvendar.\n    *   A burocracia e a falta de transparência do governo.\n*   **Pertences:**\n    *   Uma mochila surrada com livros sobre teorias da conspiração, um walkman com fitas de rock e uma lanterna.\n    *   Um computador antigo com acesso discado à internet, que ele usa para pesquisar informações secretas.\n    *   Um exemplar surrado de \"O Guia do Mochileiro das Galáxias\".\n*   **Relações:**\n    *   Primo mais novo do Agente Miller, a quem admira (apesar de discordar de suas visões céticas).\n    *   Melhor amigo de Mike, o nerd de computadores do grupo.\n    *   Desenvolve uma relação de amizade/rivalidade com Sarah, a garota rebelde com um passado misterioso.\n\n## Ficha de Personagem: Agente Miller\n\n*   **Nome:** Agente (Nome a definir) Miller\n*   **Idade:** 40 anos\n*   **Aparência:**\n    *   Corte de cabelo curto e penteado, terno bem cortado (mesmo em ambientes informais).\n    *   Expressão séria e olhar penetrante.\n    *   Usa um distintivo do FBI discretamente preso ao cinto.\n*   **Personalidade:**\n    *   Cético, pragmático e experiente.\n    *   Já viu de tudo em sua carreira no FBI, o que o tornou um tanto cínico.\n    *   Apesar de seu ceticismo, é um agente dedicado e busca a verdade.\n    *   Tem um senso de humor ácido e sarcástico.\n*   **Gostos:**\n    *   Resolver casos difíceis e complexos.\n    *   Manter a ordem e a lei.\n    *   Café forte e charutos.\n    *   Jogar xadrez.\n*   **Desgostos:**\n    *   Teorias da conspiração e fenômenos paranormais (que ele considera bobagens).\n    *   Burocracia excessiva e políticos corruptos.\n    *   A sensação de que o sistema está quebrado e que a verdade nem sempre importa.\n*   **Pertences:**\n    *   Um distintivo do FBI, uma pistola Glock e um coldre de ombro.\n    *   Um celular analógico (dos anos 90) e um pager.\n    *   Um bloco de notas e uma caneta para anotar informações importantes.\n*   **Relações:**\n    *   Tio de Alex, a quem ama, mas considera um tanto ingênuo.\n    *   Trabalha em equipe com outros agentes do FBI, mas mantém uma certa distância emocional.\n    *   Entra em conflito com as autoridades locais, que muitas vezes não cooperam com suas investigações.\n\n### Notas Adicionais:\n\n*   **Alex:** O fato de ser brasileiro e morar nos EUA pode ser explorado, mostrando um choque cultural e a dificuldade de se adaptar a um novo país. Ele pode ter um certo \"complexo de estrangeiro\", sentindo que precisa provar seu valor constantemente.\n*   **Agente Miller:** Sua relação com Alex pode ser um ponto interessante na história. Ele pode tentar proteger o sobrinho dos perigos que ele próprio enfrenta, mas ao mesmo tempo, Alex pode ser uma fonte valiosa de informações sobre os eventos estranhos que acontecem na cidade.\n\nCom essas fichas, você terá uma base sólida para interpretar esses personagens e tomar decisões que afetem o rumo da história.\n"
          },
          "metadata": {}
        },
        {
          "output_type": "display_data",
          "data": {
            "text/plain": [
              "<IPython.core.display.Markdown object>"
            ],
            "text/markdown": "\n## Início da Aventura!\n---"
          },
          "metadata": {}
        },
        {
          "output_type": "display_data",
          "data": {
            "text/plain": [
              "<IPython.core.display.Markdown object>"
            ],
            "text/markdown": "\n✨ **OK! Vamos começar a contar sua história!** ✨"
          },
          "metadata": {}
        },
        {
          "output_type": "display_data",
          "data": {
            "text/plain": [
              "<IPython.core.display.Markdown object>"
            ],
            "text/markdown": "\n*Digite `!FIM` a qualquer momento para sair do jogo.*\n"
          },
          "metadata": {}
        },
        {
          "output_type": "display_data",
          "data": {
            "text/plain": [
              "<IPython.core.display.HTML object>"
            ],
            "text/html": [
              "\n",
              "    <div style=\"border: 1px solid #777; padding: 15px; margin: 15px 0; border-radius: 8px; background-color: #333; color: #fff;\">\n",
              "        🗣️ **NARRADOR:**<br>\n",
              "        Olá, detetives do desconhecido! Sou Gilia Anderson, sua guia\n",
              "nesta jornada. Preparem-se, pois em \"Arquivo Anômalo: 1995\",\n",
              "vamos mergulhar em mistérios que desafiam a lógica e a\n",
              "ciência. Com um olhar atento aos detalhes e uma pitada de\n",
              "ceticismo, vou narrar os eventos que se desenrolam em Port\n",
              "Álamo, Oregon.  O ano é 1995. Port Álamo, uma cidade\n",
              "encravada no interior do Oregon, respira a atmosfera densa e\n",
              "misteriosa das florestas que a cercam. A economia local,\n",
              "impulsionada pela indústria madeireira, contrasta com as\n",
              "sombras da antiga base militar desativada nos arredores,\n",
              "palco de inúmeras teorias da conspiração. A cultura grunge\n",
              "domina as rádios, enquanto a internet discada abre portais\n",
              "para um mundo de informações e segredos.  Você é Alex, um\n",
              "jovem de 16 anos, absorto em teorias da conspiração e\n",
              "fenômenos paranormais. No momento, você está no seu quarto,\n",
              "em frente ao computador, a tela banhada pelo brilho\n",
              "esverdeado de linhas de código. O som característico da\n",
              "conexão discada ecoa enquanto você acessa um fórum obscuro\n",
              "sobre avistamentos de OVNIs. De repente, o telefone toca. É\n",
              "Sarah, sua vizinha e amiga. A voz dela soa urgente e\n",
              "desesperada: \"Alex, meu irmão Billy desapareceu na floresta.\n",
              "Preciso da sua ajuda!\"  O que você faz?  <ol>  <li>Atender\n",
              "ao pedido de Sarah imediatamente e ir encontrá-la para\n",
              "iniciar as buscas por Billy na floresta.</li>  <li>Tentar\n",
              "acalmar Sarah e sugerir que ela espere pela polícia,\n",
              "enquanto você pesquisa online por informações sobre\n",
              "desaparecimentos na região.</li>  <li>Chamar seu tio, o\n",
              "Agente Miller do FBI, para relatar o desaparecimento de\n",
              "Billy, mesmo sabendo que ele é cético em relação a essas\n",
              "coisas.</li> </ol> <!-- Quebra de linha para melhor visualização -->\n",
              "    </div>\n",
              "    "
            ]
          },
          "metadata": {}
        },
        {
          "output_type": "display_data",
          "data": {
            "text/plain": [
              "<IPython.core.display.Markdown object>"
            ],
            "text/markdown": "\n<div style='font-weight: bold;'>✍️ SUA VEZ:</div>"
          },
          "metadata": {}
        },
        {
          "name": "stdout",
          "output_type": "stream",
          "text": [
            "3\n"
          ]
        },
        {
          "output_type": "display_data",
          "data": {
            "text/plain": [
              "<IPython.core.display.HTML object>"
            ],
            "text/html": [
              "\n",
              "    <div style=\"border: 1px solid #777; padding: 15px; margin: 15px 0; border-radius: 8px; background-color: #333; color: #fff;\">\n",
              "        🗣️ **NARRADOR:**<br>\n",
              "        Você decide seguir o caminho da cautela e da\n",
              "responsabilidade, discando para o número do seu tio, o\n",
              "Agente Miller. O telefone toca algumas vezes antes de ser\n",
              "atendido por uma voz grave e um tanto irritada: \"Miller.\"\n",
              "\"Tio, é o Alex. Preciso da sua ajuda. O irmão da Sarah,\n",
              "Billy, desapareceu na floresta. Ela está desesperada.\"  Há\n",
              "um silêncio do outro lado da linha, seguido por um suspiro.\n",
              "\"Alex, eu estou no meio de uma investigação importante.\n",
              "Desaparecimentos acontecem, é trabalho para a polícia\n",
              "local.\"  Você tenta argumentar, mencionando os boatos sobre\n",
              "a base militar desativada e as estranhas luzes que têm sido\n",
              "vistas na floresta. Miller o corta: \"Alex, chega de teorias\n",
              "da conspiração. Eu vou falar com o xerife, mas não espere\n",
              "que eu abandone meu caso para procurar um garoto perdido.\n",
              "Fique em casa e deixe os profissionais trabalharem.\"  Ele\n",
              "desliga. Você se sente frustrado e impotente. Sarah precisa\n",
              "da sua ajuda, mas seu tio parece não levar a situação a\n",
              "sério.  O que você faz agora?  <ol>  <li>Ignorar o conselho\n",
              "do seu tio e ir encontrar Sarah para iniciar as buscas por\n",
              "Billy na floresta, confiando em seus instintos e\n",
              "conhecimentos sobre o local.</li>  <li>Ligar para Mike, seu\n",
              "amigo nerd de computadores, e pedir para ele hackear os\n",
              "arquivos da polícia local em busca de informações sobre\n",
              "desaparecimentos na região.</li>  <li>Obedecer ao seu tio e\n",
              "esperar por notícias da polícia, mas continuar pesquisando\n",
              "online por pistas sobre o desaparecimento de Billy e outros\n",
              "eventos estranhos em Port Álamo.</li> </ol> <!-- Quebra de linha para melhor visualização -->\n",
              "    </div>\n",
              "    "
            ]
          },
          "metadata": {}
        },
        {
          "output_type": "display_data",
          "data": {
            "text/plain": [
              "<IPython.core.display.Markdown object>"
            ],
            "text/markdown": "\n<div style='font-weight: bold;'>✍️ SUA VEZ:</div>"
          },
          "metadata": {}
        },
        {
          "name": "stdout",
          "output_type": "stream",
          "text": [
            "Ligar para Mike, pedir que faça a pesquisa e em seguida ir ao encontro de Sarah\n"
          ]
        },
        {
          "output_type": "display_data",
          "data": {
            "text/plain": [
              "<IPython.core.display.HTML object>"
            ],
            "text/html": [
              "\n",
              "    <div style=\"border: 1px solid #777; padding: 15px; margin: 15px 0; border-radius: 8px; background-color: #333; color: #fff;\">\n",
              "        🗣️ **NARRADOR:**<br>\n",
              "        Você decide combinar a busca por informações com o apoio à\n",
              "Sarah. Rapidamente, você disca para o número de Mike, seu\n",
              "fiel amigo e mestre da informática. Após alguns bipes, a voz\n",
              "animada de Mike ecoa do outro lado da linha: \"Fala, Alex!\n",
              "Alguma novidade conspiratória?\"  \"Mike, preciso da sua\n",
              "ajuda. O Billy, irmão da Sarah, sumiu na floresta. Meu tio,\n",
              "o Agente Miller, não está dando muita bola, então preciso\n",
              "que você faça uma busca nos arquivos da polícia local. Veja\n",
              "se encontra algo sobre desaparecimentos na região, qualquer\n",
              "coisa estranha.\"  Mike fica sério. \"Entendi a gravidade.\n",
              "Deixa comigo, vou invadir o sistema deles rapidinho. Mas e\n",
              "você? Vai ficar aí parado?\"  Você explica seu plano de\n",
              "encontrar Sarah enquanto Mike faz a busca. Ele concorda em\n",
              "avisá-lo assim que encontrar algo. Ao desligar, você sente\n",
              "um misto de determinação e apreensão. O tempo urge, e Billy\n",
              "pode estar em perigo.  Você sai de casa e se dirige à casa\n",
              "de Sarah, que fica a algumas quadras de distância. Ao chegar\n",
              "lá, você a encontra sentada na varanda, com o olhar fixo na\n",
              "floresta densa que se estende além dos limites da cidade.\n",
              "Ela parece abatida e desesperada.  \"Alex, obrigada por vir,\"\n",
              "ela diz, com a voz embargada. \"A polícia não está fazendo\n",
              "nada. Dizem que ele provavelmente se perdeu e vai voltar\n",
              "sozinho.\"  Você tenta confortá-la, dizendo que vai ajudá-la\n",
              "a encontrar Billy. Sarah olha para você com gratidão, mas\n",
              "seus olhos ainda carregam uma sombra de dúvida.  O que você\n",
              "diz a Sarah?  <ol>  <li>\"Não se preocupe, Sarah. Vamos\n",
              "encontrar o Billy. Eu conheço a floresta como a palma da\n",
              "minha mão.\"</li>  <li>\"Seu irmão é esperto, Sarah. Ele deve\n",
              "estar bem e logo vai aparecer. Mas vamos procurá-lo para ter\n",
              "certeza.\"</li>  <li>\"Sei que está com medo, Sarah, mas vamos\n",
              "juntos nessa. Não vamos descansar até encontrarmos o\n",
              "Billy.\"</li> </ol> <!-- Quebra de linha para melhor visualização -->\n",
              "    </div>\n",
              "    "
            ]
          },
          "metadata": {}
        },
        {
          "output_type": "display_data",
          "data": {
            "text/plain": [
              "<IPython.core.display.Markdown object>"
            ],
            "text/markdown": "\n<div style='font-weight: bold;'>✍️ SUA VEZ:</div>"
          },
          "metadata": {}
        },
        {
          "name": "stdout",
          "output_type": "stream",
          "text": [
            "2\n"
          ]
        },
        {
          "output_type": "display_data",
          "data": {
            "text/plain": [
              "<IPython.core.display.HTML object>"
            ],
            "text/html": [
              "\n",
              "    <div style=\"border: 1px solid #777; padding: 15px; margin: 15px 0; border-radius: 8px; background-color: #333; color: #fff;\">\n",
              "        🗣️ **NARRADOR:**<br>\n",
              "        Você escolhe a abordagem que equilibra otimismo e realismo.\n",
              "\"Seu irmão é esperto, Sarah. Ele deve estar bem e logo vai\n",
              "aparecer. Mas vamos procurá-lo para ter certeza.\"  Sarah\n",
              "esboça um leve sorriso, como se suas palavras tivessem\n",
              "trazido um mínimo de alívio. \"Obrigada, Alex. Eu sei que\n",
              "posso contar com você.\" Ela se levanta, decidida. \"Por onde\n",
              "começamos?\"  Antes que você possa responder, o telefone toca\n",
              "dentro da casa. Sarah corre para atender, enquanto você\n",
              "espera ansiosamente na varanda. A conversa é curta e tensa.\n",
              "Quando Sarah retorna, seu rosto está pálido e seus olhos\n",
              "arregalados.  \"Era a polícia,\" ela diz, com a voz trêmula.\n",
              "\"Eles encontraram a bicicleta do Billy perto do riacho, na\n",
              "entrada da floresta.\"  A notícia atinge você como um choque.\n",
              "O riacho é um local isolado e perigoso, conhecido por seus\n",
              "desfiladeiros e correntezas traiçoeiras. A possibilidade de\n",
              "um acidente se torna cada vez mais real.  O que você sugere\n",
              "agora?  <ol>  <li>\"Precisamos ir até o riacho agora mesmo,\n",
              "Sarah. Se ele caiu na água, cada segundo conta.\"</li>\n",
              "<li>\"Calma, Sarah. Pode ser que ele só tenha deixado a\n",
              "bicicleta lá e ido explorar a floresta. Vamos procurar por\n",
              "pistas antes de entrar em pânico.\"</li>  <li>\"Vamos ligar\n",
              "para a polícia e pedir reforços, Sarah. Não podemos nos\n",
              "arriscar sozinhos em um lugar perigoso como o riacho.\"</li>\n",
              "</ol> <!-- Quebra de linha para melhor visualização -->\n",
              "    </div>\n",
              "    "
            ]
          },
          "metadata": {}
        },
        {
          "output_type": "display_data",
          "data": {
            "text/plain": [
              "<IPython.core.display.Markdown object>"
            ],
            "text/markdown": "\n<div style='font-weight: bold;'>✍️ SUA VEZ:</div>"
          },
          "metadata": {}
        }
      ]
    }
  ]
}